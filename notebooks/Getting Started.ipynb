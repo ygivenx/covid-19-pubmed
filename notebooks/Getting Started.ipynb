{
 "cells": [
  {
   "cell_type": "code",
   "execution_count": 2,
   "metadata": {},
   "outputs": [],
   "source": [
    "import os\n",
    "import pandas as pd\n",
    "import numpy as np\n",
    "\n",
    "import matplotlib.pyplot as plt\n",
    "import seaborn as sns\n",
    "plt.style.use('ggplot')"
   ]
  },
  {
   "cell_type": "code",
   "execution_count": 3,
   "metadata": {},
   "outputs": [
    {
     "name": "stdout",
     "output_type": "stream",
     "text": [
      "COVID.DATA.LIC.AGMT.pdf \u001b[1m\u001b[36mcustom_license\u001b[m\u001b[m          metadata.readme\n",
      "\u001b[1m\u001b[36mbiorxiv_medrxiv\u001b[m\u001b[m         json_schema.txt         \u001b[1m\u001b[36mnoncomm_use_subset\u001b[m\u001b[m\n",
      "\u001b[1m\u001b[36mcomm_use_subset\u001b[m\u001b[m         metadata.csv\n"
     ]
    }
   ],
   "source": [
    "!ls ../data/external/"
   ]
  },
  {
   "cell_type": "markdown",
   "metadata": {},
   "source": [
    "### Metadata"
   ]
  },
  {
   "cell_type": "code",
   "execution_count": 4,
   "metadata": {},
   "outputs": [],
   "source": [
    "metadata = pd.read_csv(\"../data/external/metadata.csv\", dtype={'sha': str,\n",
    "                                                              'pmc_id': str,\n",
    "                                                              'pubmed_id': str,\n",
    "                                                              'doi': str,\n",
    "                                                              'Microsoft Academic Paper ID': str,\n",
    "                                                              'WHO #Covidence': str})"
   ]
  },
  {
   "cell_type": "code",
   "execution_count": 5,
   "metadata": {},
   "outputs": [
    {
     "data": {
      "text/plain": [
       "els-covid      19012\n",
       "unk            10797\n",
       "cc-by           8932\n",
       "no-cc           4430\n",
       "cc-by-nc        1168\n",
       "medrvix          842\n",
       "biorxiv          704\n",
       "cc-by-nc-nd      672\n",
       "cc-by-nc-sa      472\n",
       "cc0              260\n",
       "cc-by-nd           4\n",
       "pd                 3\n",
       "cc-by-sa           2\n",
       "Name: license, dtype: int64"
      ]
     },
     "execution_count": 5,
     "metadata": {},
     "output_type": "execute_result"
    }
   ],
   "source": [
    "# metadata['source_x'].value_counts()\n",
    "metadata['license'].value_counts()"
   ]
  },
  {
   "cell_type": "code",
   "execution_count": 6,
   "metadata": {},
   "outputs": [
    {
     "name": "stdout",
     "output_type": "stream",
     "text": [
      "<class 'pandas.core.frame.DataFrame'>\n",
      "RangeIndex: 47298 entries, 0 to 47297\n",
      "Data columns (total 18 columns):\n",
      " #   Column                       Non-Null Count  Dtype \n",
      "---  ------                       --------------  ----- \n",
      " 0   cord_uid                     47298 non-null  object\n",
      " 1   sha                          34283 non-null  object\n",
      " 2   source_x                     47298 non-null  object\n",
      " 3   title                        47140 non-null  object\n",
      " 4   doi                          43956 non-null  object\n",
      " 5   pmcid                        28038 non-null  object\n",
      " 6   pubmed_id                    35409 non-null  object\n",
      " 7   license                      47298 non-null  object\n",
      " 8   abstract                     39048 non-null  object\n",
      " 9   publish_time                 47289 non-null  object\n",
      " 10  authors                      45189 non-null  object\n",
      " 11  journal                      42894 non-null  object\n",
      " 12  Microsoft Academic Paper ID  964 non-null    object\n",
      " 13  WHO #Covidence               1768 non-null   object\n",
      " 14  has_pdf_parse                47298 non-null  bool  \n",
      " 15  has_pmc_xml_parse            47298 non-null  bool  \n",
      " 16  full_text_file               38469 non-null  object\n",
      " 17  url                          46996 non-null  object\n",
      "dtypes: bool(2), object(16)\n",
      "memory usage: 5.9+ MB\n"
     ]
    }
   ],
   "source": [
    "metadata.info()"
   ]
  },
  {
   "cell_type": "markdown",
   "metadata": {},
   "source": [
    "#### define all statics"
   ]
  },
  {
   "cell_type": "code",
   "execution_count": 7,
   "metadata": {},
   "outputs": [],
   "source": [
    "data_dir_raw = \"../data/raw\""
   ]
  },
  {
   "cell_type": "code",
   "execution_count": 8,
   "metadata": {},
   "outputs": [
    {
     "name": "stdout",
     "output_type": "stream",
     "text": [
      "Total Raw Files:  52097\n"
     ]
    }
   ],
   "source": [
    "print(\"Total Raw Files: \", len(os.listdir(data_dir_raw)))"
   ]
  },
  {
   "cell_type": "code",
   "execution_count": 9,
   "metadata": {},
   "outputs": [],
   "source": [
    "file_size = lambda x: len(x.split())"
   ]
  },
  {
   "cell_type": "code",
   "execution_count": 10,
   "metadata": {},
   "outputs": [
    {
     "name": "stdout",
     "output_type": "stream",
     "text": [
      "1138\n"
     ]
    }
   ],
   "source": [
    "for f in os.listdir(data_dir_raw):\n",
    "    with open(data_dir_raw+\"/\"+f) as fp:\n",
    "        print(file_size(fp.read()))\n",
    "    break"
   ]
  },
  {
   "cell_type": "code",
   "execution_count": null,
   "metadata": {},
   "outputs": [],
   "source": []
  }
 ],
 "metadata": {
  "kernelspec": {
   "display_name": "Python 3",
   "language": "python",
   "name": "python3"
  },
  "language_info": {
   "codemirror_mode": {
    "name": "ipython",
    "version": 3
   },
   "file_extension": ".py",
   "mimetype": "text/x-python",
   "name": "python",
   "nbconvert_exporter": "python",
   "pygments_lexer": "ipython3",
   "version": "3.9.2"
  }
 },
 "nbformat": 4,
 "nbformat_minor": 4
}
